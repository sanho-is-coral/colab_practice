{
  "cells": [
    {
      "cell_type": "markdown",
      "metadata": {
        "id": "view-in-github",
        "colab_type": "text"
      },
      "source": [
        "<a href=\"https://colab.research.google.com/github/sanho-is-coral/colab_practice/blob/main/Colaboratory%EC%97%90_%EC%98%A4%EC%8B%A0_%EA%B2%83%EC%9D%84_%ED%99%98%EC%98%81%ED%95%A9%EB%8B%88%EB%8B%A4%EC%9D%98_%EC%82%AC%EB%B3%B8.ipynb\" target=\"_parent\"><img src=\"https://colab.research.google.com/assets/colab-badge.svg\" alt=\"Open In Colab\"/></a>"
      ]
    },
    {
      "cell_type": "code",
      "source": [
        ""
      ],
      "metadata": {
        "id": "oc0h_cH81ITK"
      },
      "execution_count": null,
      "outputs": []
    },
    {
      "cell_type": "code",
      "source": [
        "#Iris\n",
        "import tensorflow as tf\n",
        "import pandas as pd\n",
        "\n",
        "fileRoute='https://raw.githubusercontent.com/blackdew/tensorflow1/master/csv/iris.csv'\n",
        "iris=pd.read_csv(fileRoute)\n",
        "encoding=pd.get_dummies(iris)#원핫인코딩을 위한 데이터 준비. 종속값이 범주형 데이터일 때 범주를 칼럼 형태로 만듬\n",
        "\n",
        "x=encoding[['꽃잎길이','꽃잎폭','꽃받침길이','꽃받침폭']]\n",
        "y=encoding[['품종_setosa','품종_versicolor','품종_virginica']]\n",
        "\n",
        "X=tf.keras.layers.Input(shape=[4])\n",
        "Y=tf.keras.layers.Dense(3, activation='softmax')(X) #softmax는 결과값을 확률지표로 보여줌\n",
        "model=tf.keras.models.Model(X,Y)\n",
        "model.compile(loss='categorical_crossentropy',metrics='accuracy') \n",
        "#회귀는 mse 분류는 crossentropy 사용, accuracy는 결과창에서 정확도 출력\n",
        "model.fit(x,y,epochs=1000, verbose=0)\n",
        "print(model.predict(x[-5:]))"
      ],
      "metadata": {
        "colab": {
          "base_uri": "https://localhost:8080/"
        },
        "id": "-o7l_BYHMKBp",
        "outputId": "038f64c5-407a-4c0d-8a89-40c70412725c"
      },
      "execution_count": 11,
      "outputs": [
        {
          "output_type": "stream",
          "name": "stdout",
          "text": [
            "[[1.1568188e-06 1.3497676e-01 8.6502212e-01]\n",
            " [2.6568596e-06 2.4322969e-01 7.5676763e-01]\n",
            " [4.2326615e-06 2.3043914e-01 7.6955658e-01]\n",
            " [7.9137237e-07 6.5322042e-02 9.3467718e-01]\n",
            " [8.2609758e-06 2.2185893e-01 7.7813280e-01]]\n"
          ]
        }
      ]
    }
  ],
  "metadata": {
    "colab": {
      "collapsed_sections": [],
      "name": "Colaboratory에 오신 것을 환영합니다의 사본",
      "provenance": [],
      "include_colab_link": true
    },
    "kernelspec": {
      "display_name": "Python 3",
      "name": "python3"
    }
  },
  "nbformat": 4,
  "nbformat_minor": 0
}