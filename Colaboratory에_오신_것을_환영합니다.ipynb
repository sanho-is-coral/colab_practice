{
  "cells": [
    {
      "cell_type": "markdown",
      "metadata": {
        "id": "view-in-github",
        "colab_type": "text"
      },
      "source": [
        "<a href=\"https://colab.research.google.com/github/sanho-is-coral/colab_practice/blob/main/Colaboratory%EC%97%90_%EC%98%A4%EC%8B%A0_%EA%B2%83%EC%9D%84_%ED%99%98%EC%98%81%ED%95%A9%EB%8B%88%EB%8B%A4.ipynb\" target=\"_parent\"><img src=\"https://colab.research.google.com/assets/colab-badge.svg\" alt=\"Open In Colab\"/></a>"
      ]
    },
    {
      "cell_type": "code",
      "source": [
        "import tensorflow as tf\n",
        "import pandas as pd\n",
        "(독립, 종속),_=tf.keras.datasets.mnist.load_data()\n",
        "독립=독립.reshape(60000,28,28,1)\n",
        "종속=pd.get_dummies(종속)\n",
        "print(독립.shape,종속.shape)\n",
        "\n",
        "x=tf.keras.layers.Input(shape=[28,28,1])\n",
        "H=tf.keras.layers.Conv2D(3,kernel_size=5, activation='swish')(x)\n",
        "H=tf.keras.layers.MaxPool2D()(H)\n",
        "H=tf.keras.layers.Conv2D(6,kernel_size=5, activation='swish')(h)\n",
        "H=tf.keras.layers.MaxPool2D()(H)\n",
        "H=tf.keras.layers.Flatten()(H)\n",
        "H=tf.keras.layers.Dense(84,activation='swish')(H)\n",
        "Y=tf.keras.layers.Dense(10,activation='softmax'(H)\n",
        "model=tf.keras.models.Model(X,Y)\n",
        "model.compile(loss='categorical_crossentropy',metrics='accuracy')"
      ],
      "metadata": {
        "id": "6wH5uH2nL936"
      },
      "execution_count": null,
      "outputs": []
    }
  ],
  "metadata": {
    "colab": {
      "collapsed_sections": [],
      "name": "Colaboratory에 오신 것을 환영합니다",
      "provenance": [],
      "include_colab_link": true
    },
    "kernelspec": {
      "display_name": "Python 3",
      "name": "python3"
    }
  },
  "nbformat": 4,
  "nbformat_minor": 0
}