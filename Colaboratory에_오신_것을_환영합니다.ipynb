{
  "cells": [
    {
      "cell_type": "markdown",
      "metadata": {
        "id": "view-in-github",
        "colab_type": "text"
      },
      "source": [
        "<a href=\"https://colab.research.google.com/github/sanho-is-coral/colab_practice/blob/main/Colaboratory%EC%97%90_%EC%98%A4%EC%8B%A0_%EA%B2%83%EC%9D%84_%ED%99%98%EC%98%81%ED%95%A9%EB%8B%88%EB%8B%A4.ipynb\" target=\"_parent\"><img src=\"https://colab.research.google.com/assets/colab-badge.svg\" alt=\"Open In Colab\"/></a>"
      ]
    },
    {
      "cell_type": "code",
      "source": [
        "import tensorflow as tf\n",
        "import pandas as pd\n",
        "\n",
        "fileRoute='https://raw.githubusercontent.com/blackdew/tensorflow1/master/csv/iris.csv'\n",
        "iris=pd.read_csv(fileRoute)\n",
        "iris=pd.get_dummies(iris)\n",
        "xcomponent=iris[['꽃잎길이','꽃잎폭','꽃받침길이','꽃받침폭']]\n",
        "ycomponent=iris[['품종_setosa','품종_versicolor','품종_virginica']]\n",
        "print(xcomponent.shape)\n",
        "\n",
        "X=tf.keras.layers.Input(shape=[4])\n",
        "H=tf.keras.layers.Dense(10, activation='swish')(X)\n",
        "H=tf.keras.layers.Dense(10, activation='swish')(H)\n",
        "H=tf.keras.layers.Dense(10, activation='swish')(H)\n",
        "Y=tf.keras.layers.Dense(3, activation='softmax')(H)\n",
        "\n",
        "model=tf.keras.models.Model(X,Y)\n",
        "model.compile(loss='categorical_crossentropy',metrics='accuracy')\n",
        "model.fit(xcomponent,ycomponent,epochs=10)"
      ],
      "metadata": {
        "colab": {
          "base_uri": "https://localhost:8080/"
        },
        "id": "VzwuNwZ9cZNI",
        "outputId": "5eb594ba-f9e1-4e74-930e-a773e5604639"
      },
      "execution_count": 7,
      "outputs": [
        {
          "output_type": "stream",
          "name": "stdout",
          "text": [
            "(150, 4)\n",
            "Epoch 1/10\n",
            "5/5 [==============================] - 1s 3ms/step - loss: 1.1043 - accuracy: 0.3333\n",
            "Epoch 2/10\n",
            "5/5 [==============================] - 0s 3ms/step - loss: 1.0681 - accuracy: 0.3400\n",
            "Epoch 3/10\n",
            "5/5 [==============================] - 0s 3ms/step - loss: 1.0448 - accuracy: 0.3333\n",
            "Epoch 4/10\n",
            "5/5 [==============================] - 0s 3ms/step - loss: 1.0245 - accuracy: 0.4667\n",
            "Epoch 5/10\n",
            "5/5 [==============================] - 0s 3ms/step - loss: 1.0055 - accuracy: 0.6600\n",
            "Epoch 6/10\n",
            "5/5 [==============================] - 0s 3ms/step - loss: 0.9861 - accuracy: 0.7067\n",
            "Epoch 7/10\n",
            "5/5 [==============================] - 0s 3ms/step - loss: 0.9665 - accuracy: 0.7133\n",
            "Epoch 8/10\n",
            "5/5 [==============================] - 0s 3ms/step - loss: 0.9464 - accuracy: 0.7067\n",
            "Epoch 9/10\n",
            "5/5 [==============================] - 0s 3ms/step - loss: 0.9285 - accuracy: 0.7467\n",
            "Epoch 10/10\n",
            "5/5 [==============================] - 0s 3ms/step - loss: 0.9065 - accuracy: 0.7667\n"
          ]
        },
        {
          "output_type": "execute_result",
          "data": {
            "text/plain": [
              "<keras.callbacks.History at 0x7f15444d3b90>"
            ]
          },
          "metadata": {},
          "execution_count": 7
        }
      ]
    }
  ],
  "metadata": {
    "colab": {
      "collapsed_sections": [],
      "name": "Colaboratory에 오신 것을 환영합니다",
      "provenance": [],
      "include_colab_link": true
    },
    "kernelspec": {
      "display_name": "Python 3",
      "name": "python3"
    }
  },
  "nbformat": 4,
  "nbformat_minor": 0
}