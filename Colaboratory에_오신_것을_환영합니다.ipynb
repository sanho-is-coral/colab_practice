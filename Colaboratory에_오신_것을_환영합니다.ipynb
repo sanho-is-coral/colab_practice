{
  "cells": [
    {
      "cell_type": "markdown",
      "metadata": {
        "id": "view-in-github",
        "colab_type": "text"
      },
      "source": [
        "<a href=\"https://colab.research.google.com/github/sanho-is-coral/colab_practice/blob/main/Colaboratory%EC%97%90_%EC%98%A4%EC%8B%A0_%EA%B2%83%EC%9D%84_%ED%99%98%EC%98%81%ED%95%A9%EB%8B%88%EB%8B%A4.ipynb\" target=\"_parent\"><img src=\"https://colab.research.google.com/assets/colab-badge.svg\" alt=\"Open In Colab\"/></a>"
      ]
    },
    {
      "cell_type": "code",
      "source": [
        "import tensorflow as tf\n",
        "import pandas as pd\n",
        "\n",
        "fileRoute='https://raw.githubusercontent.com/blackdew/tensorflow1/master/csv/boston.csv'\n",
        "boston=pd.read_csv(fileRoute)\n",
        "\n",
        "xcomponent=boston[['crim','zn','indus','chas','nox','rm','age','dis','rad','tax','ptratio','b','lstat']]\n",
        "ycomponent=boston[['medv']]\n",
        "\n",
        "X=tf.keras.layers.Input(shape=[13])\n",
        "H=tf.keras.layers.Dense(10,activation='swish')(X)\n",
        "Y=tf.keras.layers.Dense(1)(H)\n",
        "model=tf.keras.models.Model(X,Y)\n",
        "model.compile(loss='mse')\n",
        "model.fit(xcomponent,ycomponent,epochs=1000,verbose=0)\n",
        "model.predict(xcomponent[0:5])"
      ],
      "metadata": {
        "id": "VzwuNwZ9cZNI",
        "outputId": "a65e245f-aecc-4837-e646-70e25a069822",
        "colab": {
          "base_uri": "https://localhost:8080/"
        }
      },
      "execution_count": 3,
      "outputs": [
        {
          "output_type": "execute_result",
          "data": {
            "text/plain": [
              "array([[30.486197],\n",
              "       [25.123413],\n",
              "       [31.039299],\n",
              "       [30.67635 ],\n",
              "       [30.09295 ]], dtype=float32)"
            ]
          },
          "metadata": {},
          "execution_count": 3
        }
      ]
    }
  ],
  "metadata": {
    "colab": {
      "collapsed_sections": [],
      "name": "Colaboratory에 오신 것을 환영합니다",
      "provenance": [],
      "include_colab_link": true
    },
    "kernelspec": {
      "display_name": "Python 3",
      "name": "python3"
    }
  },
  "nbformat": 4,
  "nbformat_minor": 0
}